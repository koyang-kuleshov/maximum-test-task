{
 "cells": [
  {
   "cell_type": "markdown",
   "source": [
    "## Import modules"
   ],
   "metadata": {}
  },
  {
   "cell_type": "code",
   "execution_count": 1,
   "source": [
    "import os\n",
    "\n",
    "import numpy as np\n",
    "import pandas as pd\n",
    "import psycopg2\n",
    "from sqlalchemy import create_engine"
   ],
   "outputs": [],
   "metadata": {}
  },
  {
   "cell_type": "markdown",
   "source": [
    "## Get database credentials"
   ],
   "metadata": {}
  },
  {
   "cell_type": "code",
   "execution_count": 2,
   "source": [
    "HOST = os.environ['POSTGRES_HOST']\n",
    "PORT = os.environ['POSTGRES_PORT']\n",
    "USER = os.environ['POSTGRES_USER']\n",
    "PASS = os.environ['POSTGRES_PASS']\n",
    "DB = os.environ['POSTGRES_DB']"
   ],
   "outputs": [],
   "metadata": {}
  },
  {
   "cell_type": "markdown",
   "source": [
    "## Task #1"
   ],
   "metadata": {}
  },
  {
   "cell_type": "code",
   "execution_count": 3,
   "source": [
    "def create_connection(db_host, db_port, db_user, db_password, db_name):\n",
    "    try:\n",
    "        connection = psycopg2.connect(\n",
    "            host=db_host,\n",
    "            port=db_port,           \n",
    "            user=db_user,\n",
    "            password=db_password,\n",
    "            database=db_name,\n",
    "            )\n",
    "    except psycopg2.OperationalError as err:\n",
    "        print(err)\n",
    "    return connection"
   ],
   "outputs": [],
   "metadata": {}
  },
  {
   "cell_type": "code",
   "execution_count": 4,
   "source": [
    "connection = create_connection(HOST, PORT, USER, PASS, DB)"
   ],
   "outputs": [],
   "metadata": {}
  },
  {
   "cell_type": "code",
   "execution_count": 5,
   "source": [
    "def execute_query(connection, query):\n",
    "    cursor = connection.cursor()\n",
    "    result = None\n",
    "    try:\n",
    "        cursor.execute(query)\n",
    "        result = cursor.fetchall()\n",
    "        return result\n",
    "    except psycopg2.OperationalError as err:\n",
    "        print(err)"
   ],
   "outputs": [],
   "metadata": {}
  },
  {
   "cell_type": "code",
   "execution_count": 6,
   "source": [
    "sessions_columns = [\n",
    "    'visitor_session_id',\n",
    "    'site_id',\n",
    "    'visitor_id',\n",
    "    'date_time',\n",
    "    'campaign_id'\n",
    "]\n",
    "communications_columns = [\n",
    "    'communication',\n",
    "    'site_id',\n",
    "    'visitor_id',\n",
    "    'date_time'\n",
    "]\n",
    "get_sessions_query = 'SELECT * FROM sessions;'\n",
    "get_communications_query = 'SELECT * FROM communications;'"
   ],
   "outputs": [],
   "metadata": {}
  },
  {
   "cell_type": "code",
   "execution_count": 7,
   "source": [
    "sessions = execute_query(connection, get_sessions_query)\n",
    "communications = execute_query(connection, get_communications_query)"
   ],
   "outputs": [],
   "metadata": {}
  },
  {
   "cell_type": "code",
   "execution_count": 8,
   "source": [
    "sessions_df = pd.DataFrame(data=sessions, columns=sessions_columns)\n",
    "communications_df = pd.DataFrame(data=communications, columns=communications_columns)"
   ],
   "outputs": [],
   "metadata": {}
  },
  {
   "cell_type": "code",
   "execution_count": 9,
   "source": [
    "merged_df = pd.merge(\n",
    "    communications_df,\n",
    "    sessions_df,\n",
    "    on='visitor_id',\n",
    "    how='left',\n",
    "    suffixes=['_com', '_ses']\n",
    ")"
   ],
   "outputs": [],
   "metadata": {}
  },
  {
   "cell_type": "code",
   "execution_count": 10,
   "source": [
    "merged_df = merged_df.query('site_id_com == site_id_ses and date_time_com > date_time_ses').sort_values(['communication', 'date_time_ses'])\n",
    "merged_df['row_n'] = merged_df.sort_values('date_time_ses').groupby('communication').cumcount() + 1"
   ],
   "outputs": [],
   "metadata": {}
  },
  {
   "cell_type": "code",
   "execution_count": 11,
   "source": [
    "merged_df.row_n = merged_df.row_n.astype('Int64')\n",
    "merged_df = merged_df.sort_values('communication').reset_index(drop=True)"
   ],
   "outputs": [],
   "metadata": {}
  },
  {
   "cell_type": "code",
   "execution_count": 12,
   "source": [
    "merged_df.drop(['site_id_ses'], axis=1, inplace=True)"
   ],
   "outputs": [],
   "metadata": {}
  },
  {
   "cell_type": "code",
   "execution_count": 13,
   "source": [
    "merged_df.rename(\n",
    "    {'communication': 'communication_id',\n",
    "    'site_id_com': 'site_id',\n",
    "    'visitor_id_x': 'visitor_id',\n",
    "    'date_time_com': 'communication_date_time',\n",
    "    'date_time_ses': 'session_date_time',\n",
    "    'communication_y': 'row_n'\n",
    "    },\n",
    "    axis='columns',\n",
    "    inplace=True\n",
    ")"
   ],
   "outputs": [],
   "metadata": {}
  },
  {
   "cell_type": "code",
   "execution_count": 21,
   "source": [
    "result_df = pd.DataFrame()\n",
    "for comm in merged_df.communication_id.unique():\n",
    "    spam = pd.DataFrame()\n",
    "    spam = merged_df.query('communication_id == @comm').sort_values('session_date_time', ascending=False).head(1)\n",
    "    result_df = pd.concat([result_df, spam])\n",
    "result_df = result_df.reset_index(drop=True)"
   ],
   "outputs": [],
   "metadata": {}
  },
  {
   "cell_type": "markdown",
   "source": [
    "## Task #2"
   ],
   "metadata": {}
  },
  {
   "cell_type": "code",
   "execution_count": 15,
   "source": [
    "psql = \"\"\"\n",
    "WITH merged_table AS (\n",
    "    SELECT\n",
    "        c.communication_id AS communication_id,\n",
    "        c.site_id AS site_id,\n",
    "        c.visitor_id AS visitor_id,\n",
    "        c.date_time AS communication_date_time,\n",
    "        s.visitor_session_id::BIGINT AS visitor_session_id,\n",
    "        s.date_time AS session_date_time,\n",
    "        -- LAG(s.date_time) over(PARTITION BY c.communication_id ORDER BY(s.date_time)) AS session_date_time,\n",
    "        s.campaign_id AS campaign_id,\n",
    "        ROW_NUMBER() over(PARTITION BY c.communication_id ORDER BY (s.date_time)) AS row_n\n",
    "    FROM\n",
    "        communications AS c\n",
    "    LEFT JOIN\n",
    "        sessions AS s\n",
    "    ON\n",
    "        c.visitor_id = s.visitor_id\n",
    "    WHERE\n",
    "        c.site_id = s.site_id\n",
    "        AND c.date_time > s.date_time\n",
    "    ORDER BY\n",
    "        communication_id\n",
    "    )\n",
    "\n",
    "SELECT\n",
    "    mt.communication_id,\n",
    "    mt.site_id,\n",
    "    mt.visitor_id,\n",
    "    mt.communication_date_time,\n",
    "    CASE\n",
    "        WHEN sr.session_date_time IS NOT NULL THEN mt.visitor_session_id\n",
    "    END AS visitor_session_id,\n",
    "    sr.session_date_time,\n",
    "    CASE\n",
    "        WHEN sr.session_date_time IS NOT NULL THEN mt.campaign_id\n",
    "    END AS campaign_id,\n",
    "    sr.max_n AS row_nunique_sessions.reset_index(drop=True)\n",
    "FROM\n",
    "    merged_table AS mt\n",
    "LEFT JOIN    \n",
    "    (\n",
    "    SELECT\n",
    "        communication_id,\n",
    "        MAX(row_n) AS max_n,\n",
    "        MAX(session_date_time) AS session_date_time\n",
    "    FROM\n",
    "        merged_table\n",
    "    GROUP BY\n",
    "        communication_id\n",
    "    ORDER BY\n",
    "        communication_id\n",
    "    ) AS sr\n",
    "ON\n",
    "    mt.communication_id = sr.communication_id\n",
    "WHERE\n",
    "    mt.row_n = sr.max_n\n",
    "\"\"\"\n",
    "execute_psql = execute_query(connection, psql)\n",
    "result_psql = pd.DataFrame(execute_psql, columns=result_df.columns.to_list())\n",
    "result_psql.visitor_session_id = result_psql.visitor_session_id.astype('Int64')\n",
    "result_psql.campaign_id = result_psql.campaign_id.astype('Int64')"
   ],
   "outputs": [],
   "metadata": {}
  },
  {
   "cell_type": "markdown",
   "source": [
    "## Compare two results"
   ],
   "metadata": {}
  },
  {
   "cell_type": "code",
   "execution_count": 26,
   "source": [
    "diff = result_df.compare(result_psql)\n",
    "diff.empty"
   ],
   "outputs": [
    {
     "output_type": "execute_result",
     "data": {
      "text/plain": [
       "True"
      ]
     },
     "metadata": {},
     "execution_count": 26
    }
   ],
   "metadata": {}
  }
 ],
 "metadata": {
  "orig_nbformat": 4,
  "language_info": {
   "name": "python",
   "version": "3.9.5",
   "mimetype": "text/x-python",
   "codemirror_mode": {
    "name": "ipython",
    "version": 3
   },
   "pygments_lexer": "ipython3",
   "nbconvert_exporter": "python",
   "file_extension": ".py"
  },
  "kernelspec": {
   "name": "python3",
   "display_name": "Python 3.9.5 64-bit ('venv': venv)"
  },
  "interpreter": {
   "hash": "9527dfdf247e15e454ecf755b4a7cf90306e4bb33ef5d9c3d639d678e5bc8aac"
  }
 },
 "nbformat": 4,
 "nbformat_minor": 2
}